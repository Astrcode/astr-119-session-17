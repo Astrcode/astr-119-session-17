{
 "cells": [
  {
   "cell_type": "code",
   "execution_count": null,
   "id": "628cdc7f",
   "metadata": {},
   "outputs": [],
   "source": [
    "%matplotlib inline\n",
    "import matplotlib.pyplot as plt\n",
    "import numpy as np\n",
    "from astropy.io import fits"
   ]
  },
  {
   "cell_type": "code",
   "execution_count": null,
   "id": "c3f68b2a",
   "metadata": {},
   "outputs": [],
   "source": [
    "fname = \"example_fits\\HorseHead.fits\"\n",
    "hdu_list = fits.open(fname)\n",
    "hdu_list.info()"
   ]
  },
  {
   "cell_type": "code",
   "execution_count": null,
   "id": "2559752d",
   "metadata": {},
   "outputs": [],
   "source": [
    "image_data = hdu_list[0].data"
   ]
  },
  {
   "cell_type": "code",
   "execution_count": null,
   "id": "8928a6d3",
   "metadata": {},
   "outputs": [],
   "source": [
    "print(type(image_data))\n",
    "print(image_data.shape)"
   ]
  },
  {
   "cell_type": "code",
   "execution_count": null,
   "id": "e7c1c9ae",
   "metadata": {},
   "outputs": [],
   "source": [
    "hdu_list.close()"
   ]
  },
  {
   "cell_type": "code",
   "execution_count": null,
   "id": "60af520f",
   "metadata": {},
   "outputs": [],
   "source": [
    "image_data = fits.getdata(fname)\n",
    "print(type(image_data))\n",
    "print(image_data.shape)"
   ]
  },
  {
   "cell_type": "code",
   "execution_count": null,
   "id": "0ef27339",
   "metadata": {},
   "outputs": [],
   "source": [
    "plt.imshow(image_data, cmap='gray')\n",
    "plt.colorbar()"
   ]
  },
  {
   "cell_type": "code",
   "execution_count": null,
   "id": "703e0ff2",
   "metadata": {},
   "outputs": [],
   "source": [
    "print('Min:',np.min(image_data))\n",
    "print('Max:',np.max(image_data))\n",
    "print('Mean:',np.mean(image_data))\n",
    "print('Stdev:',np.std(image_data))"
   ]
  },
  {
   "cell_type": "code",
   "execution_count": null,
   "id": "f36b5e69",
   "metadata": {},
   "outputs": [],
   "source": [
    "histogram = plt.hist(image_data.flatten(), bins='auto')"
   ]
  },
  {
   "cell_type": "code",
   "execution_count": null,
   "id": "4133e54b",
   "metadata": {},
   "outputs": [],
   "source": [
    "from matplotlib.colors import LogNorm"
   ]
  },
  {
   "cell_type": "code",
   "execution_count": null,
   "id": "45984688",
   "metadata": {},
   "outputs": [],
   "source": [
    "plt.imshow(image_data, cmap='gray', norm=LogNorm())\n",
    "\n",
    "#Choose the tick marks based on the histogram above\n",
    "cbar = plt.colorbar(ticks=[5.e3,1.e4,2.e4])\n",
    "cbar.ax.set_yticklabels(['5,000','10,000','20,000'])"
   ]
  },
  {
   "cell_type": "code",
   "execution_count": null,
   "id": "fc9d02d8",
   "metadata": {},
   "outputs": [],
   "source": [
    "#make a list of filenames\n",
    "image_list = ['M13_blue_0001.fits','M13_blue_0002.fits','M13_blue_0003.fits','M13_blue_0004.fits','M13_blue_0005.fits']\n",
    "image_list = ['example_fits/' + filename for filename in image_list]\n"
   ]
  },
  {
   "cell_type": "code",
   "execution_count": null,
   "id": "7a440777",
   "metadata": {},
   "outputs": [],
   "source": [
    "#make an array of images from the list of images\n",
    "image_concat = [fits.getdata(image) for image in image_list]"
   ]
  },
  {
   "cell_type": "code",
   "execution_count": null,
   "id": "c52de569",
   "metadata": {},
   "outputs": [],
   "source": [
    "#sum the images together\n",
    "final_image = np.sum(image_concat, axis=0)"
   ]
  },
  {
   "cell_type": "code",
   "execution_count": null,
   "id": "fb8b854d",
   "metadata": {},
   "outputs": [],
   "source": [
    "#plot a histogram of the image pixel values\n",
    "image_hist = plt.hist(final_image.flatten(), bins = 'auto')"
   ]
  },
  {
   "cell_type": "code",
   "execution_count": null,
   "id": "027a4c1b",
   "metadata": {},
   "outputs": [],
   "source": [
    "outfile = 'stack_M13_blue.fits'\n",
    "hdu = fits.PrimaryHDU(final_image)\n",
    "hdu.writeto(outfile, overwrite=True)"
   ]
  },
  {
   "cell_type": "code",
   "execution_count": null,
   "id": "6f991970",
   "metadata": {},
   "outputs": [],
   "source": []
  }
 ],
 "metadata": {
  "kernelspec": {
   "display_name": "Python 3 (ipykernel)",
   "language": "python",
   "name": "python3"
  },
  "language_info": {
   "codemirror_mode": {
    "name": "ipython",
    "version": 3
   },
   "file_extension": ".py",
   "mimetype": "text/x-python",
   "name": "python",
   "nbconvert_exporter": "python",
   "pygments_lexer": "ipython3",
   "version": "3.9.7"
  }
 },
 "nbformat": 4,
 "nbformat_minor": 5
}
